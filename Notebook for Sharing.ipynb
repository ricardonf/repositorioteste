{
 "cells": [
  {
   "cell_type": "markdown",
   "metadata": {
    "collapsed": true
   },
   "source": [
    "#  \"My Jupyter Notebook on IBM Watson Studio\""
   ]
  },
  {
   "cell_type": "markdown",
   "metadata": {},
   "source": [
    "**Ricardo Nascimento Ferreira**\n",
    "<br>Ricardo Nascimento Ferreira , desired ocuppation - Data Engineer"
   ]
  },
  {
   "cell_type": "markdown",
   "metadata": {},
   "source": [
    "_I m interested in data science because it is an oportunity to keep being update with the data tendencies jobs.Second: I´d like to migrate from my current occupation - Data Analyst_"
   ]
  },
  {
   "cell_type": "markdown",
   "metadata": {},
   "source": [
    "### Adding to integer number"
   ]
  },
  {
   "cell_type": "code",
   "execution_count": 4,
   "metadata": {},
   "outputs": [
    {
     "data": {
      "text/plain": [
       "2"
      ]
     },
     "execution_count": 4,
     "metadata": {},
     "output_type": "execute_result"
    }
   ],
   "source": [
    "1 + 1"
   ]
  },
  {
   "cell_type": "markdown",
   "metadata": {},
   "source": [
    " ### Horizontal rules\n",
    " Three or more...\n",
    "\n",
    "One\n",
    "\n",
    "---\n",
    "\n",
    "Two\n",
    "\n",
    "---\n",
    "Three\n",
    "\n",
    "---\n",
    "\n",
    "### Bulleted list\n",
    "\n",
    "* One   \n",
    "\n",
    "* Two\n",
    "\n",
    "* Three\n",
    "\n",
    "### Numbered list\n",
    "1. One\n",
    "2. Two\n",
    "3. Three\n",
    "\n",
    "### tables\n",
    "| Day of The Week| Date     | Time  |\n",
    "| ------------- |:-------------:| -----:|\n",
    "| Sunday      | 2022/09/04 | 12:00 PM |\n",
    "| Monday      | 2022/09/05      |   11:AM |\n",
    "| Tuesday | 2022/09/06      |  09:00 PM |\n",
    "\n",
    "\n",
    "### links\n",
    "[I'm an inline-style link](https://www.openbsd.org)\n",
    "[I'm an inline-style link](https://www.freebsd.org)\n",
    "[I'm an inline-style link](https://www.netbsd.org)\n",
    "\n",
    "\n",
    "## images\n",
    "Inline-style: \n",
    "![alt text](https://th.bing.com/th/id/R.2b1e5095b7cf2e86b8abc0fda161d1be?rik=rJhOzKZuTwP6Sw&riu=http%3a%2f%2fwww.sportalpen.com%2fwp-content%2fuploads%2f2013%2f06%2fSaalbach-Hinterglemm-Mountainbiken.jpg&ehk=WTC3XUFIhf8O1DgZRo0yQ5VHeHT5gIfp6UpbVXJT3wM%3d&risl=&pid=ImgRaw&r=0)\n",
    "\n",
    "Inline-style: \n",
    "![alt text](https://th.bing.com/th/id/OIP.Zxv3594Kuh3eR99j80qkLgHaE8?pid=ImgDet&w=825&h=550&rs=1)\n",
    "\n",
    "Inline-style: \n",
    "![alt text](https://i.pinimg.com/originals/5e/c0/ef/5ec0ef2c60c1f90a95f4a4d3d2c12080.jpg)\n",
    "\n",
    "### code/syntax highlighting\n",
    "``` python\n",
    "print('Hello World')\n",
    "```\n",
    "\n",
    "``` python\n",
    "1 + 1\n",
    "```\n",
    "\n",
    "``` python\n",
    "print('1 + 1 is \",(1 + 1 )\n",
    "      \n",
    "```\n",
    "\n",
    "### blocked quotes\n",
    "\n",
    "> This is a test using blocked quotes.\n",
    "> This is the second one.\n",
    "> This is the third one.\n",
    "\n",
    "### strikethrough\n",
    "~~~ this is the first one ~~~\n",
    "~~~ this is the second one ~~~\n",
    "~~~ this is the third one ~~~\n"
   ]
  },
  {
   "cell_type": "code",
   "execution_count": null,
   "metadata": {},
   "outputs": [],
   "source": []
  }
 ],
 "metadata": {
  "kernelspec": {
   "display_name": "Python 3.9",
   "language": "python",
   "name": "python3"
  },
  "language_info": {
   "codemirror_mode": {
    "name": "ipython",
    "version": 3
   },
   "file_extension": ".py",
   "mimetype": "text/x-python",
   "name": "python",
   "nbconvert_exporter": "python",
   "pygments_lexer": "ipython3",
   "version": "3.9.12"
  }
 },
 "nbformat": 4,
 "nbformat_minor": 1
}
